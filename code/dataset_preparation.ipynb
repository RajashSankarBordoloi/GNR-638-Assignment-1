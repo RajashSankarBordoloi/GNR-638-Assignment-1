{
 "cells": [
  {
   "cell_type": "code",
   "execution_count": 1,
   "id": "54452003-c0b4-4bc4-acaf-5111fa7f4f5b",
   "metadata": {},
   "outputs": [],
   "source": [
    "import os\n",
    "import shutil\n",
    "from sklearn.model_selection import train_test_split"
   ]
  },
  {
   "cell_type": "code",
   "execution_count": 4,
   "id": "bdf90547-8274-45c7-9a5d-2d90c3a5163f",
   "metadata": {},
   "outputs": [],
   "source": [
    "dataset_dir = \"D:/CSRE/2. Spring 2024/GNR 638 Deep Learning for Image Analysis/Assignments/UCMerced_LandUse/Images\"\n",
    "classes = os.listdir(dataset_dir)\n",
    "\n",
    "for cls in classes:\n",
    "    class_dir = os.path.join(dataset_dir, cls)\n",
    "    images = os.listdir(class_dir)\n",
    "\n",
    "    train, temp = train_test_split(images, test_size=0.3, random_state=42)\n",
    "    val, test = train_test_split(temp, test_size=2/3, random_state=42) # 10% val, 20% test\n",
    "\n",
    "    os.makedirs(f\"data/train/{cls}\", exist_ok=True)\n",
    "    os.makedirs(f\"data/val/{cls}\", exist_ok=True)\n",
    "    os.makedirs(f\"data/test/{cls}\", exist_ok=True)\n",
    "\n",
    "    for img in train:\n",
    "        shutil.copy(os.path.join(class_dir, img), f\"data/train/{cls}/{img}\")\n",
    "    for img in val:\n",
    "        shutil.copy(os.path.join(class_dir, img), f\"data/val/{cls}/{img}\")\n",
    "    for img in test:\n",
    "        shutil.copy(os.path.join(class_dir, img), f\"data/test/{cls}/{img}\")"
   ]
  },
  {
   "cell_type": "code",
   "execution_count": 2,
   "id": "7feb8503-3e45-414f-86ab-0bb0f87d05aa",
   "metadata": {},
   "outputs": [],
   "source": [
    "import os\n",
    "import shutil\n",
    "from sklearn.model_selection import train_test_split\n",
    "from PIL import Image\n",
    "\n",
    "dataset_dir = \"D:/CSRE/2. Spring 2024/GNR 638 Deep Learning for Image Analysis/Assignments/UCMerced_LandUse/Images\"\n",
    "classes = os.listdir(dataset_dir)\n",
    "\n",
    "for cls in classes:\n",
    "    class_dir = os.path.join(dataset_dir, cls)\n",
    "    images = os.listdir(class_dir)\n",
    "\n",
    "    train, temp = train_test_split(images, test_size=0.3, random_state=42)\n",
    "    val, test = train_test_split(temp, test_size=2/3, random_state=42) # 10% val, 20% test\n",
    "\n",
    "    os.makedirs(f\"data/train/{cls}\", exist_ok=True)\n",
    "    os.makedirs(f\"data/val/{cls}\", exist_ok=True)\n",
    "    os.makedirs(f\"data/test/{cls}\", exist_ok=True)\n",
    "\n",
    "    # Function to convert TIFF to grayscale JPG\n",
    "    def convert_to_grayscale_jpg(tiff_path, jpg_path):\n",
    "        with Image.open(tiff_path) as img:\n",
    "            grayscale_img = img.convert('L')  # Convert to grayscale\n",
    "            grayscale_img.save(jpg_path, 'JPEG')  # Save as JPG\n",
    "\n",
    "    for img in train:\n",
    "        tiff_path = os.path.join(class_dir, img)\n",
    "        if tiff_path.lower().endswith('.tiff') or tiff_path.lower().endswith('.tif'):\n",
    "            jpg_name = os.path.splitext(img)[0] + '.jpg'\n",
    "            jpg_path = os.path.join(f\"data/train/{cls}\", jpg_name)\n",
    "            convert_to_grayscale_jpg(tiff_path, jpg_path)\n",
    "        else:\n",
    "            shutil.copy(tiff_path, f\"data/train/{cls}/{img}\")\n",
    "\n",
    "    for img in val:\n",
    "        tiff_path = os.path.join(class_dir, img)\n",
    "        if tiff_path.lower().endswith('.tiff') or tiff_path.lower().endswith('.tif'):\n",
    "            jpg_name = os.path.splitext(img)[0] + '.jpg'\n",
    "            jpg_path = os.path.join(f\"data/val/{cls}\", jpg_name)\n",
    "            convert_to_grayscale_jpg(tiff_path, jpg_path)\n",
    "        else:\n",
    "            shutil.copy(tiff_path, f\"data/val/{cls}/{img}\")\n",
    "\n",
    "    for img in test:\n",
    "        tiff_path = os.path.join(class_dir, img)\n",
    "        if tiff_path.lower().endswith('.tiff') or tiff_path.lower().endswith('.tif'):\n",
    "            jpg_name = os.path.splitext(img)[0] + '.jpg'\n",
    "            jpg_path = os.path.join(f\"data/test/{cls}\", jpg_name)\n",
    "            convert_to_grayscale_jpg(tiff_path, jpg_path)\n",
    "        else:\n",
    "            shutil.copy(tiff_path, f\"data/test/{cls}/{img}\")\n"
   ]
  },
  {
   "cell_type": "code",
   "execution_count": null,
   "id": "22dddcb6",
   "metadata": {},
   "outputs": [],
   "source": []
  }
 ],
 "metadata": {
  "kernelspec": {
   "display_name": "deeplearning",
   "language": "python",
   "name": "python3"
  },
  "language_info": {
   "codemirror_mode": {
    "name": "ipython",
    "version": 3
   },
   "file_extension": ".py",
   "mimetype": "text/x-python",
   "name": "python",
   "nbconvert_exporter": "python",
   "pygments_lexer": "ipython3",
   "version": "3.9.18"
  }
 },
 "nbformat": 4,
 "nbformat_minor": 5
}
